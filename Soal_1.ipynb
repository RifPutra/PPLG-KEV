{
  "cells": [
    {
      "cell_type": "markdown",
      "metadata": {
        "id": "view-in-github",
        "colab_type": "text"
      },
      "source": [
        "<a href=\"https://colab.research.google.com/github/RifPutra/PPLG-KEV/blob/main/Soal_1.ipynb\" target=\"_parent\"><img src=\"https://colab.research.google.com/assets/colab-badge.svg\" alt=\"Open In Colab\"/></a>"
      ]
    },
    {
      "cell_type": "markdown",
      "metadata": {
        "id": "q6-H41x-J3eS"
      },
      "source": [
        "\n",
        "Buatlah sebuah program untuk menentukan bilangan positif, bilangan negatif dan bilangan nol\n",
        "\n"
      ]
    },
    {
      "cell_type": "code",
      "execution_count": null,
      "metadata": {
        "colab": {
          "background_save": true
        },
        "id": "MpLDKpbsOaW7"
      },
      "outputs": [],
      "source": [
        "print(\"Program Menentukan Bilangan Negatif,Positif dan Nol\")\n",
        "\n",
        "#Tempat untuk memasukkan bilangan\n",
        "a=int(input('Masukan nilai bilangan:'))\n",
        "\n",
        "#Kode untuk menentukan bilangan positif\n",
        "if a>0 :\n",
        "  print ('ini bilangan positif')\n",
        "#Kode untuk menentukan bilangan nol\n",
        "elif a==0 :\n",
        "  print ('ini bilangan nol')\n",
        "#Kode untuk menentukan bilangan negatif\n",
        "else :\n",
        "  print ('ini bilangan negatif')"
      ]
    },
    {
      "cell_type": "markdown",
      "source": [
        "**PROGRAM PENENTUAN BILANGAN**\n",
        "\n",
        "Program ini berfungsi untuk menentukan bilangan negatif, positif dan nol. Pengguna hanya perlu menginput nilai bilangannya maka sistem akan mengeluarkan pernyataan sesuai dengan yang di input."
      ],
      "metadata": {
        "id": "8RABDN5O4lnI"
      }
    }
  ],
  "metadata": {
    "colab": {
      "provenance": [],
      "authorship_tag": "ABX9TyNjxzAK+iyFEPH1/rKb+YLO",
      "include_colab_link": true
    },
    "kernelspec": {
      "display_name": "Python 3",
      "name": "python3"
    },
    "language_info": {
      "name": "python"
    }
  },
  "nbformat": 4,
  "nbformat_minor": 0
}